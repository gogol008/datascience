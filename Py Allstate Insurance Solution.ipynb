{
 "cells": [
  {
   "cell_type": "code",
   "execution_count": 3,
   "metadata": {
    "collapsed": false
   },
   "outputs": [],
   "source": [
    "#location of the file path\n",
    "#/root/hackerday/11_allstate_insurance/train.csv.zip\n",
    "#/root/hackerday/11_allstate_insurance/test_v2.csv.zip\n",
    "#/root/hackerday/11_allstate_insurance/sampleSubmission.csv\n",
    "\n",
    "#location of the file path\n",
    "#unzip(\"/root/hackerday/11_allstate_insurance/train.csv.zip\",exdir = \"/root/hackerday/11_allstate_insurance/\")\n",
    "#train = read.csv(\"/root/hackerday/11_allstate_insurance/train.csv\")\n",
    "\n",
    "#unzip(\"/root/hackerday/11_allstate_insurance/test_v2.csv.zip\",exdir = \"/root/hackerday/11_allstate_insurance/\")\n",
    "#test_v2 = read.csv(\"/root/hackerday/11_allstate_insurance/test_v2.csv\")\n",
    "\n",
    "#/root/hackerday/11_allstate_insurance/train.csv.zip\n",
    "#/root/hackerday/11_allstate_insurance/test_v2.csv.zip\n",
    "#/root/hackerday/11_allstate_insurance/sampleSubmission.csv\n"
   ]
  },
  {
   "cell_type": "code",
   "execution_count": 5,
   "metadata": {
    "collapsed": false
   },
   "outputs": [],
   "source": [
    "import pandas as pd\n",
    "from pandas import Series, DataFrame"
   ]
  },
  {
   "cell_type": "code",
   "execution_count": 8,
   "metadata": {
    "collapsed": false
   },
   "outputs": [
    {
     "name": "stdout",
     "output_type": "stream",
     "text": [
      "   customer_ID  shopping_pt  record_type  day   time state  location  \\\n",
      "0     10000000            1            0    0  08:35    IN     10001   \n",
      "1     10000000            2            0    0  08:38    IN     10001   \n",
      "2     10000000            3            0    0  08:38    IN     10001   \n",
      "3     10000000            4            0    0  08:39    IN     10001   \n",
      "4     10000000            5            0    0  11:55    IN     10001   \n",
      "\n",
      "   group_size  homeowner  car_age  ...  C_previous  duration_previous  A  B  \\\n",
      "0           2          0        2  ...           1                  2  1  0   \n",
      "1           2          0        2  ...           1                  2  1  0   \n",
      "2           2          0        2  ...           1                  2  1  0   \n",
      "3           2          0        2  ...           1                  2  1  0   \n",
      "4           2          0        2  ...           1                  2  1  0   \n",
      "\n",
      "   C  D  E  F  G  cost  \n",
      "0  2  2  1  2  2   633  \n",
      "1  2  2  1  2  1   630  \n",
      "2  2  2  1  2  1   630  \n",
      "3  2  2  1  2  1   630  \n",
      "4  2  2  1  2  1   630  \n",
      "\n",
      "[5 rows x 25 columns]\n"
     ]
    }
   ],
   "source": [
    "train = pd.read_csv(\"/root/hackerday/11_allstate_insurance/train.csv\")\n",
    "print train.head()"
   ]
  },
  {
   "cell_type": "code",
   "execution_count": 11,
   "metadata": {
    "collapsed": false
   },
   "outputs": [
    {
     "data": {
      "text/html": [
       "<div>\n",
       "<table border=\"1\" class=\"dataframe\">\n",
       "  <thead>\n",
       "    <tr style=\"text-align: right;\">\n",
       "      <th></th>\n",
       "      <th>cost</th>\n",
       "      <th>car_age</th>\n",
       "    </tr>\n",
       "  </thead>\n",
       "  <tbody>\n",
       "    <tr>\n",
       "      <th>count</th>\n",
       "      <td>665249.000000</td>\n",
       "      <td>665249.000000</td>\n",
       "    </tr>\n",
       "    <tr>\n",
       "      <th>mean</th>\n",
       "      <td>635.785008</td>\n",
       "      <td>8.139437</td>\n",
       "    </tr>\n",
       "    <tr>\n",
       "      <th>std</th>\n",
       "      <td>45.993758</td>\n",
       "      <td>5.764598</td>\n",
       "    </tr>\n",
       "    <tr>\n",
       "      <th>min</th>\n",
       "      <td>260.000000</td>\n",
       "      <td>0.000000</td>\n",
       "    </tr>\n",
       "    <tr>\n",
       "      <th>25%</th>\n",
       "      <td>605.000000</td>\n",
       "      <td>3.000000</td>\n",
       "    </tr>\n",
       "    <tr>\n",
       "      <th>50%</th>\n",
       "      <td>635.000000</td>\n",
       "      <td>7.000000</td>\n",
       "    </tr>\n",
       "    <tr>\n",
       "      <th>75%</th>\n",
       "      <td>665.000000</td>\n",
       "      <td>12.000000</td>\n",
       "    </tr>\n",
       "    <tr>\n",
       "      <th>max</th>\n",
       "      <td>922.000000</td>\n",
       "      <td>85.000000</td>\n",
       "    </tr>\n",
       "  </tbody>\n",
       "</table>\n",
       "</div>"
      ],
      "text/plain": [
       "                cost        car_age\n",
       "count  665249.000000  665249.000000\n",
       "mean      635.785008       8.139437\n",
       "std        45.993758       5.764598\n",
       "min       260.000000       0.000000\n",
       "25%       605.000000       3.000000\n",
       "50%       635.000000       7.000000\n",
       "75%       665.000000      12.000000\n",
       "max       922.000000      85.000000"
      ]
     },
     "execution_count": 11,
     "metadata": {},
     "output_type": "execute_result"
    }
   ],
   "source": [
    "train[[\"cost\",\"car_age\"]].describe()"
   ]
  },
  {
   "cell_type": "code",
   "execution_count": 12,
   "metadata": {
    "collapsed": true
   },
   "outputs": [],
   "source": [
    "import matplotlib.pyplot as plt"
   ]
  },
  {
   "cell_type": "code",
   "execution_count": 13,
   "metadata": {
    "collapsed": false
   },
   "outputs": [
    {
     "name": "stdout",
     "output_type": "stream",
     "text": [
      "Populating the interactive namespace from numpy and matplotlib\n"
     ]
    }
   ],
   "source": [
    "%pylab inline"
   ]
  },
  {
   "cell_type": "code",
   "execution_count": 15,
   "metadata": {
    "collapsed": false
   },
   "outputs": [
    {
     "data": {
      "text/plain": [
       "<matplotlib.axes._subplots.AxesSubplot at 0x7f476beec1d0>"
      ]
     },
     "execution_count": 15,
     "metadata": {},
     "output_type": "execute_result"
    },
    {
     "data": {
      "image/png": "[encoded data removed]",
      "text/plain": [
       "<matplotlib.figure.Figure at 0x7f476bedacd0>"
      ]
     },
     "metadata": {},
     "output_type": "display_data"
    }
   ],
   "source": [
    "train[[\"cost\"]].plot(kind=\"hist\")"
   ]
  },
  {
   "cell_type": "code",
   "execution_count": 17,
   "metadata": {
    "collapsed": true
   },
   "outputs": [],
   "source": [
    "# data preparation and utilities\n",
    "from time import time\n",
    "from itertools import combinations\n",
    "from sklearn import preprocessing\n",
    "import scipy as sp, numpy as np, pandas as pd"
   ]
  },
  {
   "cell_type": "code",
   "execution_count": 18,
   "metadata": {
    "collapsed": true
   },
   "outputs": [],
   "source": [
    "#Cantor Pariing\n",
    "def cantor(args):\n",
    "    if len(args) > 2:\n",
    "        x2 = cantor(args[1:])\n",
    "        x1 = args[0]\n",
    "    else:\n",
    "        x1, x2 = args\n",
    "    return int((0.5 * (x1 + x2)*(x1+x2+1)+x2))\n"
   ]
  },
  {
   "cell_type": "code",
   "execution_count": 19,
   "metadata": {
    "collapsed": true
   },
   "outputs": [],
   "source": [
    "# groups all columns of data into combinations \n",
    "def group_data(data, degree=3, hash=hash, NAMES=None):\n",
    "    init = time()\n",
    "    new_data = []; combined_names = []\n",
    "    m, n = data.shape\n",
    "    for indicies in combinations(range(n), degree):\n",
    "        new_data.append([hash(tuple(v)) for v in data[:,indicies]])\n",
    "        if NAMES != None:\n",
    "            combined_names.append('+'.join([NAMES[indicies[i]] for i in range(degree)]))\n",
    "    print \"Done! %.2fm\" % ((time()-init)/60)\n",
    "    if NAMES != None:\n",
    "        return (np.array(new_data).T,combined_names)\n",
    "    return np.array(new_data).T"
   ]
  },
  {
   "cell_type": "code",
   "execution_count": 27,
   "metadata": {
    "collapsed": false
   },
   "outputs": [
    {
     "ename": "SyntaxError",
     "evalue": "invalid syntax (<ipython-input-27-eb67ea3411d4>, line 4)",
     "output_type": "error",
     "traceback": [
      "\u001b[1;36m  File \u001b[1;32m\"<ipython-input-27-eb67ea3411d4>\"\u001b[1;36m, line \u001b[1;32m4\u001b[0m\n\u001b[1;33m    [np.array(df[col].values), dtype==str) for col in columns]).T])\u001b[0m\n\u001b[1;37m                                         ^\u001b[0m\n\u001b[1;31mSyntaxError\u001b[0m\u001b[1;31m:\u001b[0m invalid syntax\n"
     ]
    }
   ],
   "source": [
    "#returns concatenated field in a dataframe\n",
    "def concat(df, columns):\n",
    "    return np.array([''.join(x) for x in np.array(\n",
    "                [np.array(df[col].values), dtype=str) for col in columns]).T])\n",
    "###Review the function###"
   ]
  },
  {
   "cell_type": "code",
   "execution_count": 28,
   "metadata": {
    "collapsed": true
   },
   "outputs": [],
   "source": [
    "#addition of state names to the dataset\n",
    "def stateFix(encoders, df, c=['C','D','G'], verbose = False):\n",
    "    #GA\n",
    "    iGA = df.state == encoders['state'].transform(['GA'])[0]\n",
    "    ifix = iGA&(df[c[0]]==1);df.ix[ifix,c[0]] = 2; nga1 = np.sum(ifix) #C\n",
    "    ifix = iGA&(df[c[1]]==1);df.ix[ifix,c[1]] = 2; nga2 = np.sum(ifix) #D\n",
    "    #FL\n",
    "    iFL = df.state == encoders['state'].transform(['FL'])[0]\n",
    "    ifix = iFL&(df[c[2]]<=2);df.ix[ifix,c[2]] = 3; nfl1 = np.sum(ifix) #G\n",
    "    #OH\n",
    "    iOH = df.state == encoders['state'].transform(['OH'])[0]\n",
    "    ifix = iOH&(df[c[2]]==1);df.ix[ifix,c[2]] = 2; noh1 = np.sum(ifix) #G\n",
    "    #ND\n",
    "    #OH\n",
    "    iND = df.state == encoders['state'].transform(['ND'])[0]\n",
    "    ifix = iND&(df[c[2]]!=2);df.ix[ifix,c[2]] = 2; nnd1 = np.sum(ifix) #G\n",
    "    #SD\n",
    "    iSD = df.state == encoders['state'].transform(['SD'])[0]\n",
    "    ifix = iSD&(df[c[2]]!=2);df.ix[ifix,c[2]] = 2; nsd1 = np.sum(ifix) #G\n",
    "    if verbose:\n",
    "        print \" Fixed state law products\" %(nga1, nga2, nfl1, noh1, nnd1, nsd1)\n",
    "        "
   ]
  },
  {
   "cell_type": "code",
   "execution_count": 29,
   "metadata": {
    "collapsed": true
   },
   "outputs": [],
   "source": [
    "#target variable expected value\n",
    "def expval(df,col,y,tfilter):\n",
    "    tmp = pd.DataFrame(index=df.index)\n",
    "    pb = df[tfilter][y].mean() #train set mean computation\n",
    "    tmp['cnt'] = df[col].map(df[tfilter][col].value_counts()).fillna(0) # set count \n",
    "    tmp['csm'] = df[col].map(df[tfilter].groupby(col)[y].sum()).fillna(pb) # set sum\n",
    "    tmp.ix[tfilter,'cnt'] -= 1 #reduce count for training set\n",
    "    tmp.ix[tfilter,'csm'] -= df.ix[tfilter,y] # removing the current value\n",
    "    tmp['exp'] = ((tmp.csm+pb*15)/(tmp.cnt+15)).fillna(pb) #calculating the mean including the average samples\n",
    "    np.random.seed(1)\n",
    "    tmp.ix[tfilter,'exp'] *= 1+0.3*(np.random.rand(len(tmp[tfilter]))-.5) #adding random noise to the training dataset\n",
    "    return tmp.exp"
   ]
  },
  {
   "cell_type": "code",
   "execution_count": 30,
   "metadata": {
    "collapsed": true
   },
   "outputs": [],
   "source": [
    "#data preparation function\n",
    "def prepare_data(shuffle=True):\n",
    "    alltest = pd.read_csv('/root/hackerday/11_allstate_insurance/test_v2.csv')\n",
    "    test = alltest.set_index('customer_ID')\n",
    "    alldata = pd.read_csv('/root/hackerday/11_allstate_insurance/train.csv').set_index('customer_ID')\n",
    "    \n",
    "    con = ['group_size','car_age','age_oldest','age_youngest','duration_previous','cost']\n",
    "    cat = ['homeowner','car_value','risk_factor','married_couple','C_previous','state','location','shopping_pt']\n",
    "    conf = ['A','B','C','D','E','F','G']; conf_f = [col+'_f' for col in conf]\n",
    "    extra = []\n",
    "    \n",
    "    final_purchase = alldata[alldata.record_type == 1] # final purchase indicator\n",
    "    data = alldata.join(final_purchase[conf],rsuffix = '_f') # creating training dataset with the target features\n",
    "    data = data[data.record_type == 0] #removing final purchase \n",
    "    \n",
    "    data['conf'] = concat(data,conf_f) #for purchase plan\n",
    "    data['conf_init'] = concat(data,conf) #last quoted plan\n",
    "    \n",
    "    encoders = dict()\n",
    "    data = data.append(test)\n",
    "    \n",
    "    #missing value imputation technique implementation\n",
    "    data['C_previous'].fillna(0, inplace=1)\n",
    "    data['duration_previous'].fillna(0,inplace=1)\n",
    "    data.location.fillna(-1,inplace=1)\n",
    "    \n",
    "    #transforming the data to numerical data\n",
    "    for col in ['car_value','risk_factor','state']:\n",
    "        encoders[col] = preprocessing.LabelEncoder()\n",
    "        data[col] = encoders[col].fit_transform(data[col].fillna(99))\n",
    "    print 'Location substitution:',\n",
    "    \n",
    "    # location substitution\n",
    "    x = data[data.shopping_pt==2].location.value_counts()\n",
    "    sub = data.location.map(x).fillna(0) < 5\n",
    "    data.ix[sub,'location'] = data.state[sub]; print '%.5f' % sub.mean()\n",
    "    \n",
    "    #cost per car_age, cost per person, cost per state\n",
    "    data['caCost'] = 1.*data.cost / (data.car_age+1)\n",
    "    data['ppCost'] = 1.*data.cost / (data.group_size)\n",
    "    data['stCost'] = data.state.map(data.groupby('state')['cost'].mean())\n",
    "    extra.extend(['caCost','ppCost','stCost'])\n",
    "    \n",
    "    #average quote cost by G values\n",
    "    data['costG'] = data['G'].map(data.groupby('G')['cost'].mean())\n",
    "    extra.append('costG')\n",
    "    \n",
    "    #average quote cost by G and State values\n",
    "    x = data.groupby(['G','state'])['cost'].mean()\n",
    "    x = x.reset_index().set_index(['G','state']); x.columns = ['costStG']\n",
    "    data = data.merge(x, left_on=['G','state'],right_index=True,how='left')\n",
    "    extra.append('costStG')\n",
    "    \n",
    "    #two way intersection between state, G and shopping_pt\n",
    "    print \"Grouping few 2way interactions\",\n",
    "    \n",
    "    grpTrn, c2 = group_data(data[['state','G','shopping_pt']].values,2,hash,['state','G','shopping_pt'])\n",
    "    for i,col in enumerate(c2):\n",
    "        encoders[col] = preprocessing.LabelEncoder()\n",
    "        data[col] = encoders[col].fit_transform(grpTrn[:,i])\n",
    "    extra.extend(c2)\n",
    "    \n",
    "    #expected value (mean) of G by State and Location\n",
    "    for col in ['state','location']:\n",
    "        extra.append(col+'_exp')\n",
    "        data[col+'_exp'] = expval(data,col,'G_f',-data.G_f.isnull())\n",
    "    \n",
    "    #previous G\n",
    "    data['prev_G'] = data.G.shift(1); extra.append('prev_G')\n",
    "    data.ix[data.shopping_pt ==1,'prev_G'] = data.ix[data.shopping_pt==1,'G']\n",
    "    \n",
    "    #train and testing data separation\n",
    "    test = data[data.conf.isnull()];data = data[-data.conf.isnull()]\n",
    "    \n",
    "    #shuffling the dataset\n",
    "    if shuffle:\n",
    "        print \" Shuffling dataset\",\n",
    "        np.random.seed(9); ids =np.unique(data.index.values)\n",
    "        rands = pd.Series(np.random.random_sample(len(ids)),index=ids)\n",
    "        data['rand'] = data.reset_index()['customer_ID'].map(rands.values)\n",
    "        data.sort(['rand','shopping_pt'],inplace=1);print \"shuffled\"\n",
    "    \n",
    "    #convert to int due to empty values in test set\n",
    "    for col in conf_f: data[col] = np.array(data[col].values,dtype=np.int8)\n",
    "    \n",
    "    return data, test, con, cat, extra, conf, conf_f, encoders\n",
    "\n",
    "    "
   ]
  },
  {
   "cell_type": "code",
   "execution_count": 34,
   "metadata": {
    "collapsed": false
   },
   "outputs": [],
   "source": [
    "from time import time\n",
    "from sklearn import ensemble\n",
    "\n",
    "import multiprocessing, operator\n",
    "import pandas as pd, numpy as np\n",
    "\n",
    "from copy_reg import pickle\n",
    "from types import MethodType\n"
   ]
  },
  {
   "cell_type": "code",
   "execution_count": 35,
   "metadata": {
    "collapsed": true
   },
   "outputs": [],
   "source": [
    "def _pickle_method(method):\n",
    "    func_name = method.im_func._name_\n",
    "    obj = method.im_self\n",
    "    cls = method.im_class\n",
    "    return _unpickle_method, (func_name, obj, cls)\n"
   ]
  },
  {
   "cell_type": "code",
   "execution_count": 36,
   "metadata": {
    "collapsed": true
   },
   "outputs": [],
   "source": [
    "def _unpickle_method(func_name, obj, cls):\n",
    "    for cls in cls.mro():\n",
    "        try:\n",
    "            func = cls._dict_[func_name]\n",
    "        except KeyError:\n",
    "            pass\n",
    "        else:\n",
    "            break\n",
    "    return func._get_(obj,cls)"
   ]
  },
  {
   "cell_type": "code",
   "execution_count": 37,
   "metadata": {
    "collapsed": true
   },
   "outputs": [],
   "source": [
    "# class is used to fit and predict in parallel by minimizing memory usage\n",
    "class RandomForestsParallel(object):\n",
    "    rfs = []\n",
    "    def _init_(self,N,ntree,maxfea,leafsize,N_proc=None):\n",
    "        self.N = N\n",
    "        self.ntree = ntree; self.maxfea = maxfea; self.leafsize = leafsize\n",
    "        self.N_proc = N_proc if N_proc is not None else max(1, multiprocessing.cpu_count()-1)\n",
    "        \n",
    "        pickle(MethodType, _pickle_method,_pickle_method)\n",
    "        \n",
    "    def _parallel_fit(self,rf):\n",
    "        t = time()\n",
    "        return rf.fit(self.X,self.y,self.w), (time()-t)/60.\n",
    "    \n",
    "    def _parallel_predict(self, rf):\n",
    "        return rf.predict(self.X)\n",
    "    \n",
    "    def fit(self,X,y,w=None):\n",
    "        #fitting N random forest models in parallel\n",
    "        self.rfs = []; self.X = X; self.y = y\n",
    "        self.w = np.ones(y.shape,dtype=bool) if w is None else w\n",
    "        print \" fitting the random forest model %i RFs using %i processes..\"% (self.N, self.N_proc),\n",
    "        \n",
    "        args = [ensemble.RandomForestClassifier(\n",
    "            n_estimators = self.ntree, max_features = self.maxfea,\n",
    "            min_samples_leaf=self.leafsize,random_state=irf,\n",
    "            compute_importances=1) for irf in range(self.N)]\n",
    "        if self.N_proc > 1:\n",
    "            pool = multiprocessing.Pool(self.N_proc)\n",
    "            for i,(rf,irft) in enumerate(pool.imap(self._parallel_fit, args)):\n",
    "                self.rfs.append(rf); print \"rf#%i % .2fm\" % (i, irft),\n",
    "            pool.terminate()\n",
    "        else:\n",
    "            for i, rf in enumerate(args):\n",
    "                rf, irft = self._parallel_fit(rf)\n",
    "                self.rfs.append(rf); print \"rf#%i % .2fm\" % (i, irft),\n",
    "        del self.X, slef.y, self.w\n",
    "        \n",
    "        self.impf =self._calculate_impf(X.columns)\n",
    "        \n",
    "        return self\n",
    "    def predict(self,X,single_process=True):\n",
    "        self.X = X\n",
    "        if (not single_process) & (self.N_proc > 1):\n",
    "            pool = multiprocessing.Pool(self.N_proc)\n",
    "            allpreds = np.array([self._parallel_predict(rf) for rf in self.rfs]).T\n",
    "            pool.terminate()\n",
    "        else:\n",
    "            allpreds = np.array([self._parallel_predict(rf) for rf in self.rfs]).T\n",
    "        del self.X\n",
    "        return allpreds\n",
    "    \n",
    "    def _calculate_impf(self, feature_names):\n",
    "        return pd.Series(reduce(operator.add,[rf.feature_importances_ for rf in self.rfs])/self.N, feature_names)\n",
    "    \n",
    "    def _repr_(self):\n",
    "        return \"N: %i N_proc: %i ntree: %i maxfea: %i leafsize: %i fitted: %s\" %(\n",
    "        self.N,self.N_proc, self.ntree, self.maxfea,\n",
    "        self.leafsize, 'yes' if len(self.rfs) > 0 else 'No')"
   ]
  },
  {
   "cell_type": "code",
   "execution_count": 42,
   "metadata": {
    "collapsed": false
   },
   "outputs": [],
   "source": [
    "# in this step we are going to use the utility functions as discussed above to generate the final prediction\n",
    "import pandas as pd, numpy as np\n",
    "import matplotlib.pyplot as plt\n",
    "import operator\n",
    "\n",
    "from sklearn import cross_validation, ensemble\n",
    "from time import time\n"
   ]
  },
  {
   "cell_type": "code",
   "execution_count": 43,
   "metadata": {
    "collapsed": true
   },
   "outputs": [],
   "source": [
    "def majority_vote(baseline, model_predictions):\n",
    "    prcnt = np.vstack([np.bincount(p,minlength=5) for p in model_predictions])\n",
    "    prmax = np.max(prcnt,axis=1) >= (1+(len(selected)/2))\n",
    "    preds = baseline+0; preds[prmax] = np.argmax(prcnt[prmax],axis=1)\n",
    "    return preds\n"
   ]
  },
  {
   "cell_type": "code",
   "execution_count": 44,
   "metadata": {
    "collapsed": true
   },
   "outputs": [],
   "source": [
    "def make_ptscores(y_true,y_pred,y_base,pt,vmask):\n",
    "    return [np.mean(vmask[pt==ipt]&(y_true[pt==ipt] == y_pred[pt==ipt]))] -np.mean(vmask[pt==ipt]&(y_true[pt==ipt] ==y_base[pt==ipt])\n",
    "                                                                                  for ipt in range(1,11))\n"
   ]
  },
  {
   "cell_type": "code",
   "execution_count": null,
   "metadata": {
    "collapsed": true
   },
   "outputs": [],
   "source": [
    "if _name_=='_main_':\n",
    "    submit = True; N = 10; NS = 4; kfold = 5; N_proc = None;\n",
    "    include_from_pt = 1; verbose_selection = False\n",
    "    tn = np.array([18943,13298,9251,6528,4203,2175,959,281,78])\n",
    "    \n",
    "    params = [(20,5,20)]\n",
    "    \n",
    "    print \" Majority voting %i models, selecting %i\\n\" % (N,NS)\n",
    "    \n",
    "    #initialize the dataset\n",
    "    data, test, con, cat, extra, conf, conf_f, encoders = prepare_data()\n",
    "    \n",
    "    data = data[data.shopping_pt >= include_from_pt]; print \" including from shopping point\" % data.shopping_pt.min(),\n",
    "    X = data[con+cat+conf+extra]; y = data['G_f']; w = np.ones(y.shape)\n",
    "    \n",
    "    vmask = reduce(operator.and_,data[conf[:-1]].values.T==data[conf_f[:-1]].values.T)\n",
    "    scores, imp, ptscores = {}, {}, {}\n",
    "    \n",
    "    for n, m,l in params:\n",
    "        t = time();\n",
    "        scores[(m,l)],imp[(m,l)],ptscores[(m,l)] = [], [],[]\n",
    "        col_trscores, col_cvscores = [], []\n",
    "        \n",
    "        rfs = RandomForestsParallel(N,n,m,l,N_proc)\n",
    "        \n",
    "        #cross validation\n",
    "        for ifold, (itr,icv) in enumerate(cross_validation.KFold(len(y),kfold, indices=False)):\n",
    "            rfs.fit(X[itr],y[itr],w[itr])\n",
    "            print \"predicting\",\n",
    "            allpreds = rfs.predict(X)\n",
    "            rftscores = []\n",
    "            print \"selecting models\"\n",
    "            for irf in range(len(rfs.rfs)):\n",
    "                pG = allpreds[:,irf];ipt2 = data.shopping_pt > 1\n",
    "                ptscore = make_ptscores(y[icv],pG[icv],data.G[icv],data.shopping_pt[icv],vmask[icv])\n",
    "                tptscore = make_ptscores(y[itr],pG[itr],data.G[itr],data.shopping_pt[itr],vmask[itr])\n",
    "                rftscores.append((tn.dot(tptscores[1:]),irf))\n",
    "                \n",
    "            rftscores.sort(reverse=1); selected = [x[1] for x in rftscores[:NS]] \n",
    "                "
   ]
  }
 ],
 "metadata": {
  "kernelspec": {
   "display_name": "Python 2",
   "language": "python",
   "name": "python2"
  },
  "language_info": {
   "codemirror_mode": {
    "name": "ipython",
    "version": 2
   },
   "file_extension": ".py",
   "mimetype": "text/x-python",
   "name": "python",
   "nbconvert_exporter": "python",
   "pygments_lexer": "ipython2",
   "version": "2.7.10"
  }
 },
 "nbformat": 4,
 "nbformat_minor": 0
}
